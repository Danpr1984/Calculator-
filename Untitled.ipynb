{
 "cells": [
  {
   "cell_type": "code",
   "execution_count": 5,
   "id": "e30f97c2",
   "metadata": {},
   "outputs": [],
   "source": [
    "import pandas as pd\n",
    "\n",
    "file_path = 'testpandas.xlsx'\n",
    "\n",
    "df = pd.read_excel(file_path)\n"
   ]
  },
  {
   "cell_type": "code",
   "execution_count": 4,
   "id": "6e08e939",
   "metadata": {},
   "outputs": [
    {
     "name": "stdout",
     "output_type": "stream",
     "text": [
      "Collecting openpyxl\n",
      "  Using cached openpyxl-3.1.2-py2.py3-none-any.whl (249 kB)\n",
      "Collecting et-xmlfile (from openpyxl)\n",
      "  Using cached et_xmlfile-1.1.0-py3-none-any.whl (4.7 kB)\n",
      "Installing collected packages: et-xmlfile, openpyxl\n",
      "Successfully installed et-xmlfile-1.1.0 openpyxl-3.1.2\n"
     ]
    }
   ],
   "source": [
    "!pip install openpyxl\n"
   ]
  },
  {
   "cell_type": "code",
   "execution_count": 6,
   "id": "b76ac2aa",
   "metadata": {},
   "outputs": [
    {
     "name": "stdout",
     "output_type": "stream",
     "text": [
      "                           Unnamed: 0  Unnamed: 1         Enero  \\\n",
      "0          Ingresos Bar y Restaurante         NaN  5.863843e+05   \n",
      "1   Ventas x Servicios de Restaurante         NaN  4.090400e+05   \n",
      "2           Ventas x Servicios de Bar         NaN  1.773443e+05   \n",
      "3            Ingreso por Habitaciones         NaN  6.699596e+05   \n",
      "4           Servicios de Habitaciones         NaN  6.699596e+05   \n",
      "5                    Total de ingreso         NaN  1.256344e+06   \n",
      "6                                 NaN         NaN           NaN   \n",
      "7                     COSTO DE VENTAS         NaN           NaN   \n",
      "8                         Restaurante         NaN  1.025808e+05   \n",
      "9                            Mariscos         NaN  4.685857e+04   \n",
      "10                                Bar         NaN  8.078479e+04   \n",
      "11                              Hotel         NaN  7.933158e+04   \n",
      "12               Menos Costo de Venta         NaN  3.095557e+05   \n",
      "13                       MARGEN BRUTO         NaN  9.467882e+05   \n",
      "14                            EGRESOS         NaN           NaN   \n",
      "15           Gastos de Administracion         NaN  2.682550e+05   \n",
      "16                     Salarios Fijos         NaN  1.569019e+05   \n",
      "17                Salarios Eventuales         NaN  3.672500e+04   \n",
      "18                               INSS         NaN  3.052565e+04   \n",
      "19                             INATEC         NaN  1.502430e+03   \n",
      "20                          Uniformes         NaN  0.000000e+00   \n",
      "21                             Bonos          NaN  4.260000e+04   \n",
      "22                Gastos del personal         NaN  0.000000e+00   \n",
      "23                   Gastos Generales         NaN  1.757602e+05   \n",
      "24                        Booking.com         NaN  1.604777e+04   \n",
      "25                           Sistema          NaN  2.050521e+03   \n",
      "26                             Correo         NaN  2.886697e+03   \n",
      "27                    Little Hotelier         NaN  4.642887e+03   \n",
      "28                      Mantenimiento         NaN  4.702551e+04   \n",
      "29                       Tren de aseo         NaN  2.688000e+03   \n",
      "30                  Energia Electrica         NaN  2.593628e+04   \n",
      "31            Servicios Profesionales         NaN  9.526230e+03   \n",
      "32                       Agua potable         NaN  5.548000e+03   \n",
      "33                     Gas de Cocinar         NaN  4.280000e+03   \n",
      "34                Comida del Personal         NaN  2.034500e+04   \n",
      "35                    Gestiones admon         NaN  7.300390e+03   \n",
      "36                           Internet         NaN  2.921538e+03   \n",
      "37                              Cable         NaN  3.367500e+03   \n",
      "38                            Spotify         NaN  2.173915e+02   \n",
      "39                           Telefono         NaN  5.276780e+03   \n",
      "40                            Seguros         NaN  2.277740e+03   \n",
      "41                         Transporte         NaN  1.042200e+04   \n",
      "42                        Combustible         NaN  3.000000e+03   \n",
      "43      Compra de bienes y servicios          NaN  0.000000e+00   \n",
      "44               Gastos de Publicidad         NaN  9.987668e+03   \n",
      "45                           Facebook         NaN  9.987668e+03   \n",
      "46            Propaganda y Publicidad         NaN  0.000000e+00   \n",
      "47                 Gastos Financieros         NaN  4.129798e+04   \n",
      "48                  Comisiones Banpro         NaN  2.551756e+04   \n",
      "49                     Comisiones BAC         NaN  3.216987e+03   \n",
      "50                          Alcaldia          NaN  1.256343e+04   \n",
      "51                              Intur         NaN           NaN   \n",
      "52                                NaN         NaN           NaN   \n",
      "53             Total Gastos Operación         NaN  4.953009e+05   \n",
      "54                                NaN         NaN           NaN   \n",
      "55             Utilidad del Ejercicio         NaN  4.514874e+05   \n",
      "\n",
      "          Febrero                                         Marzo         Abril  \n",
      "0   366758.174200                   C$               476 665,57  6.109685e+05  \n",
      "1   220054.904500                                  C$274 925,77  3.665811e+05  \n",
      "2   146703.269700                                  C$201 739,80  2.443874e+05  \n",
      "3   598394.920000                   C$               767 031,24  6.134173e+05  \n",
      "4   598394.920000                                  C$767 031,24  6.134173e+05  \n",
      "5   965153.094200                     C$           1 243 696,81  1.224386e+06  \n",
      "6             NaN                                           NaN           NaN  \n",
      "7             NaN                                           NaN           NaN  \n",
      "8    46291.776484                 C$                  81 584,52  8.160232e+04  \n",
      "9    42942.430000                 C$                  38 015,00  6.501148e+04  \n",
      "10   58899.850000                 C$                  60 635,78  1.161603e+05  \n",
      "11   60886.140000                 C$                  68 476,36  7.377462e+04  \n",
      "12  209020.196484                   C$               248 711,66  3.365487e+05  \n",
      "13  756132.897716                   C$               994 985,15  8.878371e+05  \n",
      "14            NaN                                           NaN           NaN  \n",
      "15  204772.279500                   C$               261 645,09  2.405080e+05  \n",
      "16  144650.949500                   C$               152 850,12  1.703189e+05  \n",
      "17   30034.950000                 C$                  30 406,00  3.203994e+04  \n",
      "18   28663.570000                 C$                  36 418,59  3.641859e+04  \n",
      "19    1422.810000               C$                     3 288,38  1.730560e+03  \n",
      "20       0.000000               C$                     1 617,00  0.000000e+00  \n",
      "21       0.000000                 C$                  37 065,00  0.000000e+00  \n",
      "22       0.000000   C$                                      -    0.000000e+00  \n",
      "23  184788.539198                   C$               222 396,34  2.033946e+05  \n",
      "24   32122.222842                 C$                  33 368,22  3.025475e+04  \n",
      "25    2052.085650               C$                     2 053,82  2.055498e+03  \n",
      "26    2888.900754               C$                     5 471,16  3.274245e+03  \n",
      "27    4646.430393               C$                     4 650,36  4.654157e+03  \n",
      "28   31633.580000                 C$                  50 431,05  5.107608e+04  \n",
      "29    1288.000000               C$                     1 088,00  6.880000e+02  \n",
      "30   28956.250000                 C$                  26 853,45  3.128978e+04  \n",
      "31    9532.450000               C$                     9 564,97  9.428330e+03  \n",
      "32    5548.000000               C$                     4 638,00  4.196000e+03  \n",
      "33    3280.000000               C$                     4 625,00  4.606000e+03  \n",
      "34   18545.000000                 C$                  17 960,00  1.752000e+04  \n",
      "35   11711.000000                 C$                  25 666,79  7.578000e+03  \n",
      "36    2923.768050               C$                     3 344,27  3.347006e+03  \n",
      "37    6761.130000               C$                     3 378,63  4.511720e+03  \n",
      "38     217.557399             C$                         217,74  2.179192e+02  \n",
      "39    6231.790000               C$                     6 235,42  6.239440e+03  \n",
      "40    8030.374110               C$                     7 640,47  7.646719e+03  \n",
      "41    6570.000000                 C$                  11 453,00  1.165100e+04  \n",
      "42    1850.000000               C$                     3 756,00  3.160000e+03  \n",
      "43       0.000000   C$                                      -    0.000000e+00  \n",
      "44   21330.721207               C$                     6 836,49  1.221803e+04  \n",
      "45    6830.721207               C$                     6 836,49  1.221803e+04  \n",
      "46   14500.000000   C$                                      -    0.000000e+00  \n",
      "47   37721.058669                 C$                  42 100,59  4.350756e+04  \n",
      "48   22677.000402                 C$                  23 758,97  2.708833e+04  \n",
      "49    5392.528267               C$                     5 904,66  4.175372e+03  \n",
      "50    9651.530000                 C$                  12 436,96  1.224385e+04  \n",
      "51       0.000000   C$                                      -    0.000000e+00  \n",
      "52            NaN                                           NaN           NaN  \n",
      "53  448612.598574                   C$               532 978,52  4.996282e+05  \n",
      "54            NaN                                           NaN           NaN  \n",
      "55  307520.299142                   C$               462 006,63  3.882089e+05  \n"
     ]
    }
   ],
   "source": [
    "print(df)\n",
    "\n"
   ]
  },
  {
   "cell_type": "code",
   "execution_count": 7,
   "id": "e5901d45",
   "metadata": {},
   "outputs": [
    {
     "data": {
      "text/plain": [
       "Unnamed: 0     3\n",
       "Unnamed: 1    56\n",
       "Enero          6\n",
       "Febrero        5\n",
       "Marzo          5\n",
       "Abril          5\n",
       "dtype: int64"
      ]
     },
     "execution_count": 7,
     "metadata": {},
     "output_type": "execute_result"
    }
   ],
   "source": [
    "df.isnull().sum()"
   ]
  },
  {
   "cell_type": "code",
   "execution_count": 5,
   "id": "2f147f2b",
   "metadata": {
    "scrolled": true
   },
   "outputs": [
    {
     "name": "stdout",
     "output_type": "stream",
     "text": [
      "   house  a  b  c\n",
      "0      1  1  1  1\n",
      "1      2  2  2  2\n",
      "2      3  3  3  3\n",
      "3      4  4  4  4\n",
      "4      5  5  5  5\n",
      "5      6  6  6  6\n"
     ]
    }
   ],
   "source": [
    "print(df)"
   ]
  },
  {
   "cell_type": "code",
   "execution_count": 6,
   "id": "11b27035",
   "metadata": {},
   "outputs": [],
   "source": [
    "import pandas as pd\n",
    "\n",
    "file_path = 'erpandas.xlsx'\n",
    "\n",
    "df = pd.read_excel(file_path)"
   ]
  },
  {
   "cell_type": "code",
   "execution_count": 7,
   "id": "404f6ca6",
   "metadata": {},
   "outputs": [
    {
     "name": "stdout",
     "output_type": "stream",
     "text": [
      "                               SERVICIOS HOTELEROS S,A Unnamed: 1 Unnamed: 2  \\\n",
      "0                                                 AAKI        NaN        NaN   \n",
      "1    Estado de Resultados al 31 de Diciembre del 20...        NaN        NaN   \n",
      "2                                                  NaN        NaN  DICIEMBRE   \n",
      "3                                            INGRESOS         NaN        NaN   \n",
      "4                           Ingresos Bar y Restaurante        NaN  491866.24   \n",
      "..                                                 ...        ...        ...   \n",
      "254                                           Daiquiri          1         36   \n",
      "255                                                NaN        NaN        NaN   \n",
      "256                                                NaN        NaN        NaN   \n",
      "257                                                NaN        NaN        NaN   \n",
      "258                                                NaN        NaN     952.62   \n",
      "\n",
      "       Unnamed: 3 Unnamed: 4      Unnamed: 5     Unnamed: 6 Unnamed: 7  \\\n",
      "0             NaN        NaN             NaN            NaN        NaN   \n",
      "1             NaN        NaN             NaN            NaN        NaN   \n",
      "2       DICIEMBRE       %DIC   ACUMULADO  C$    ACUMULADO $     % ACUM   \n",
      "3             NaN        NaN             NaN            NaN        NaN   \n",
      "4    13575.689595        NaN  4394711.638684  121295.661738        NaN   \n",
      "..            ...        ...             ...            ...        ...   \n",
      "254            36        NaN             NaN            NaN        NaN   \n",
      "255             0        NaN             NaN            NaN        NaN   \n",
      "256             0        NaN             NaN            NaN        NaN   \n",
      "257             0        NaN             NaN            NaN        NaN   \n",
      "258       5657.11        NaN             NaN            NaN        NaN   \n",
      "\n",
      "    Unnamed: 8                     Unnamed: 9  ... Unnamed: 19  \\\n",
      "0          NaN                            NaN  ...         NaN   \n",
      "1          NaN                            NaN  ...         NaN   \n",
      "2          NaN  Ingresos del mes de Noviembre  ...         NaN   \n",
      "3          NaN                            NaN  ...     PEDIDO    \n",
      "4          NaN               Habitaciones 54%  ...         NaN   \n",
      "..         ...                            ...  ...         ...   \n",
      "254        NaN                            NaN  ...         NaN   \n",
      "255        NaN                            NaN  ...         NaN   \n",
      "256        NaN                            NaN  ...         NaN   \n",
      "257        NaN                            NaN  ...         NaN   \n",
      "258        NaN                            NaN  ...         NaN   \n",
      "\n",
      "        Unnamed: 20 Unnamed: 21  Unnamed: 22  Unnamed: 23 Unnamed: 24  \\\n",
      "0               NaN         NaN          NaN          NaN         NaN   \n",
      "1               NaN         NaN          NaN          NaN         NaN   \n",
      "2               NaN         NaN          NaN          NaN         NaN   \n",
      "3    COSTO UNITARIO         IVA  COSTO TOTAL          NaN         NaN   \n",
      "4             69.91         NaN      2027.39          NaN         NaN   \n",
      "..              ...         ...          ...          ...         ...   \n",
      "254             NaN         NaN          NaN          NaN         NaN   \n",
      "255             NaN         NaN          NaN          NaN         NaN   \n",
      "256             NaN         NaN          NaN          NaN         NaN   \n",
      "257             NaN         NaN          NaN          NaN         NaN   \n",
      "258             NaN         NaN          NaN          NaN         NaN   \n",
      "\n",
      "    Unnamed: 25 Unnamed: 26 TC - 31/12/22 36.2314  \n",
      "0           NaN         NaN           NaN     NaN  \n",
      "1           NaN         NaN           NaN     NaN  \n",
      "2           NaN         NaN           NaN     NaN  \n",
      "3           NaN         NaN           NaN     NaN  \n",
      "4           NaN         NaN           NaN     NaN  \n",
      "..          ...         ...           ...     ...  \n",
      "254         NaN         NaN           NaN     NaN  \n",
      "255         NaN         NaN           NaN     NaN  \n",
      "256         NaN         NaN           NaN     NaN  \n",
      "257         NaN         NaN           NaN     NaN  \n",
      "258         NaN         NaN           NaN     NaN  \n",
      "\n",
      "[259 rows x 29 columns]\n"
     ]
    }
   ],
   "source": [
    "print(df)"
   ]
  },
  {
   "cell_type": "code",
   "execution_count": 8,
   "id": "a64affb8",
   "metadata": {},
   "outputs": [],
   "source": [
    "import pandas as pd\n",
    "\n",
    "file_path = 'testpandas.xlsx'\n",
    "\n",
    "df = pd.read_excel(file_path)"
   ]
  },
  {
   "cell_type": "code",
   "execution_count": 9,
   "id": "93dd1677",
   "metadata": {},
   "outputs": [
    {
     "name": "stdout",
     "output_type": "stream",
     "text": [
      "   house  a  b  c\n",
      "0      1  1  1  1\n",
      "1      2  2  2  2\n",
      "2      3  3  3  3\n",
      "3      4  4  4  4\n",
      "4      5  5  5  5\n",
      "5      6  6  6  6\n"
     ]
    }
   ],
   "source": [
    "print(df)"
   ]
  },
  {
   "cell_type": "code",
   "execution_count": 10,
   "id": "ced596a7",
   "metadata": {},
   "outputs": [],
   "source": [
    "import pandas as pd\n",
    "\n",
    "file_path = 'testpandas.xlsx'\n",
    "\n",
    "df = pd.read_excel(file_path)"
   ]
  },
  {
   "cell_type": "code",
   "execution_count": 11,
   "id": "3d7c3b8c",
   "metadata": {},
   "outputs": [
    {
     "name": "stdout",
     "output_type": "stream",
     "text": [
      "                           Unnamed: 0  Unnamed: 1         Enero  \\\n",
      "0          Ingresos Bar y Restaurante         NaN  5.863843e+05   \n",
      "1   Ventas x Servicios de Restaurante         NaN  4.090400e+05   \n",
      "2           Ventas x Servicios de Bar         NaN  1.773443e+05   \n",
      "3            Ingreso por Habitaciones         NaN  6.699596e+05   \n",
      "4           Servicios de Habitaciones         NaN  6.699596e+05   \n",
      "5                    Total de ingreso         NaN  1.256344e+06   \n",
      "6                                 NaN         NaN           NaN   \n",
      "7                     COSTO DE VENTAS         NaN           NaN   \n",
      "8                         Restaurante         NaN  1.025808e+05   \n",
      "9                            Mariscos         NaN  4.685857e+04   \n",
      "10                                Bar         NaN  8.078479e+04   \n",
      "11                              Hotel         NaN  7.933158e+04   \n",
      "12               Menos Costo de Venta         NaN  3.095557e+05   \n",
      "13                       MARGEN BRUTO         NaN  9.467882e+05   \n",
      "14                            EGRESOS         NaN           NaN   \n",
      "15           Gastos de Administracion         NaN  2.682550e+05   \n",
      "16                     Salarios Fijos         NaN  1.569019e+05   \n",
      "17                Salarios Eventuales         NaN  3.672500e+04   \n",
      "18                               INSS         NaN  3.052565e+04   \n",
      "19                             INATEC         NaN  1.502430e+03   \n",
      "20                          Uniformes         NaN  0.000000e+00   \n",
      "21                             Bonos          NaN  4.260000e+04   \n",
      "22                Gastos del personal         NaN  0.000000e+00   \n",
      "23                   Gastos Generales         NaN  1.757602e+05   \n",
      "24                        Booking.com         NaN  1.604777e+04   \n",
      "25                           Sistema          NaN  2.050521e+03   \n",
      "26                             Correo         NaN  2.886697e+03   \n",
      "27                    Little Hotelier         NaN  4.642887e+03   \n",
      "28                      Mantenimiento         NaN  4.702551e+04   \n",
      "29                       Tren de aseo         NaN  2.688000e+03   \n",
      "30                  Energia Electrica         NaN  2.593628e+04   \n",
      "31            Servicios Profesionales         NaN  9.526230e+03   \n",
      "32                       Agua potable         NaN  5.548000e+03   \n",
      "33                     Gas de Cocinar         NaN  4.280000e+03   \n",
      "34                Comida del Personal         NaN  2.034500e+04   \n",
      "35                    Gestiones admon         NaN  7.300390e+03   \n",
      "36                           Internet         NaN  2.921538e+03   \n",
      "37                              Cable         NaN  3.367500e+03   \n",
      "38                            Spotify         NaN  2.173915e+02   \n",
      "39                           Telefono         NaN  5.276780e+03   \n",
      "40                            Seguros         NaN  2.277740e+03   \n",
      "41                         Transporte         NaN  1.042200e+04   \n",
      "42                        Combustible         NaN  3.000000e+03   \n",
      "43      Compra de bienes y servicios          NaN  0.000000e+00   \n",
      "44               Gastos de Publicidad         NaN  9.987668e+03   \n",
      "45                           Facebook         NaN  9.987668e+03   \n",
      "46            Propaganda y Publicidad         NaN  0.000000e+00   \n",
      "47                 Gastos Financieros         NaN  4.129798e+04   \n",
      "48                  Comisiones Banpro         NaN  2.551756e+04   \n",
      "49                     Comisiones BAC         NaN  3.216987e+03   \n",
      "50                          Alcaldia          NaN  1.256343e+04   \n",
      "51                              Intur         NaN           NaN   \n",
      "52                                NaN         NaN           NaN   \n",
      "53             Total Gastos Operación         NaN  4.953009e+05   \n",
      "54                                NaN         NaN           NaN   \n",
      "55             Utilidad del Ejercicio         NaN  4.514874e+05   \n",
      "\n",
      "          Febrero                                         Marzo         Abril  \n",
      "0   366758.174200                   C$               476 665,57  6.109685e+05  \n",
      "1   220054.904500                                  C$274 925,77  3.665811e+05  \n",
      "2   146703.269700                                  C$201 739,80  2.443874e+05  \n",
      "3   598394.920000                   C$               767 031,24  6.134173e+05  \n",
      "4   598394.920000                                  C$767 031,24  6.134173e+05  \n",
      "5   965153.094200                     C$           1 243 696,81  1.224386e+06  \n",
      "6             NaN                                           NaN           NaN  \n",
      "7             NaN                                           NaN           NaN  \n",
      "8    46291.776484                 C$                  81 584,52  8.160232e+04  \n",
      "9    42942.430000                 C$                  38 015,00  6.501148e+04  \n",
      "10   58899.850000                 C$                  60 635,78  1.161603e+05  \n",
      "11   60886.140000                 C$                  68 476,36  7.377462e+04  \n",
      "12  209020.196484                   C$               248 711,66  3.365487e+05  \n",
      "13  756132.897716                   C$               994 985,15  8.878371e+05  \n",
      "14            NaN                                           NaN           NaN  \n",
      "15  204772.279500                   C$               261 645,09  2.405080e+05  \n",
      "16  144650.949500                   C$               152 850,12  1.703189e+05  \n",
      "17   30034.950000                 C$                  30 406,00  3.203994e+04  \n",
      "18   28663.570000                 C$                  36 418,59  3.641859e+04  \n",
      "19    1422.810000               C$                     3 288,38  1.730560e+03  \n",
      "20       0.000000               C$                     1 617,00  0.000000e+00  \n",
      "21       0.000000                 C$                  37 065,00  0.000000e+00  \n",
      "22       0.000000   C$                                      -    0.000000e+00  \n",
      "23  184788.539198                   C$               222 396,34  2.033946e+05  \n",
      "24   32122.222842                 C$                  33 368,22  3.025475e+04  \n",
      "25    2052.085650               C$                     2 053,82  2.055498e+03  \n",
      "26    2888.900754               C$                     5 471,16  3.274245e+03  \n",
      "27    4646.430393               C$                     4 650,36  4.654157e+03  \n",
      "28   31633.580000                 C$                  50 431,05  5.107608e+04  \n",
      "29    1288.000000               C$                     1 088,00  6.880000e+02  \n",
      "30   28956.250000                 C$                  26 853,45  3.128978e+04  \n",
      "31    9532.450000               C$                     9 564,97  9.428330e+03  \n",
      "32    5548.000000               C$                     4 638,00  4.196000e+03  \n",
      "33    3280.000000               C$                     4 625,00  4.606000e+03  \n",
      "34   18545.000000                 C$                  17 960,00  1.752000e+04  \n",
      "35   11711.000000                 C$                  25 666,79  7.578000e+03  \n",
      "36    2923.768050               C$                     3 344,27  3.347006e+03  \n",
      "37    6761.130000               C$                     3 378,63  4.511720e+03  \n",
      "38     217.557399             C$                         217,74  2.179192e+02  \n",
      "39    6231.790000               C$                     6 235,42  6.239440e+03  \n",
      "40    8030.374110               C$                     7 640,47  7.646719e+03  \n",
      "41    6570.000000                 C$                  11 453,00  1.165100e+04  \n",
      "42    1850.000000               C$                     3 756,00  3.160000e+03  \n",
      "43       0.000000   C$                                      -    0.000000e+00  \n",
      "44   21330.721207               C$                     6 836,49  1.221803e+04  \n",
      "45    6830.721207               C$                     6 836,49  1.221803e+04  \n",
      "46   14500.000000   C$                                      -    0.000000e+00  \n",
      "47   37721.058669                 C$                  42 100,59  4.350756e+04  \n",
      "48   22677.000402                 C$                  23 758,97  2.708833e+04  \n",
      "49    5392.528267               C$                     5 904,66  4.175372e+03  \n",
      "50    9651.530000                 C$                  12 436,96  1.224385e+04  \n",
      "51       0.000000   C$                                      -    0.000000e+00  \n",
      "52            NaN                                           NaN           NaN  \n",
      "53  448612.598574                   C$               532 978,52  4.996282e+05  \n",
      "54            NaN                                           NaN           NaN  \n",
      "55  307520.299142                   C$               462 006,63  3.882089e+05  \n"
     ]
    }
   ],
   "source": [
    "print(df)"
   ]
  },
  {
   "cell_type": "code",
   "execution_count": 12,
   "id": "51474293",
   "metadata": {},
   "outputs": [],
   "source": [
    "import pandas as pd\n",
    "\n",
    "file_path = 'testpandas.xlsx'\n",
    "\n",
    "df = pd.read_excel(file_path)"
   ]
  },
  {
   "cell_type": "code",
   "execution_count": 13,
   "id": "da98dff8",
   "metadata": {},
   "outputs": [
    {
     "name": "stdout",
     "output_type": "stream",
     "text": [
      "                           Unnamed: 0  Unnamed: 1         Enero  \\\n",
      "0          Ingresos Bar y Restaurante         NaN  5.863843e+05   \n",
      "1   Ventas x Servicios de Restaurante         NaN  4.090400e+05   \n",
      "2           Ventas x Servicios de Bar         NaN  1.773443e+05   \n",
      "3            Ingreso por Habitaciones         NaN  6.699596e+05   \n",
      "4           Servicios de Habitaciones         NaN  6.699596e+05   \n",
      "5                    Total de ingreso         NaN  1.256344e+06   \n",
      "6                                 NaN         NaN           NaN   \n",
      "7                     COSTO DE VENTAS         NaN           NaN   \n",
      "8                         Restaurante         NaN  1.025808e+05   \n",
      "9                            Mariscos         NaN  4.685857e+04   \n",
      "10                                Bar         NaN  8.078479e+04   \n",
      "11                              Hotel         NaN  7.933158e+04   \n",
      "12               Menos Costo de Venta         NaN  3.095557e+05   \n",
      "13                       MARGEN BRUTO         NaN  9.467882e+05   \n",
      "14                            EGRESOS         NaN           NaN   \n",
      "15           Gastos de Administracion         NaN  2.682550e+05   \n",
      "16                     Salarios Fijos         NaN  1.569019e+05   \n",
      "17                Salarios Eventuales         NaN  3.672500e+04   \n",
      "18                               INSS         NaN  3.052565e+04   \n",
      "19                             INATEC         NaN  1.502430e+03   \n",
      "20                          Uniformes         NaN  0.000000e+00   \n",
      "21                             Bonos          NaN  4.260000e+04   \n",
      "22                Gastos del personal         NaN  0.000000e+00   \n",
      "23                   Gastos Generales         NaN  1.757602e+05   \n",
      "24                        Booking.com         NaN  1.604777e+04   \n",
      "25                           Sistema          NaN  2.050521e+03   \n",
      "26                             Correo         NaN  2.886697e+03   \n",
      "27                    Little Hotelier         NaN  4.642887e+03   \n",
      "28                      Mantenimiento         NaN  4.702551e+04   \n",
      "29                       Tren de aseo         NaN  2.688000e+03   \n",
      "30                  Energia Electrica         NaN  2.593628e+04   \n",
      "31            Servicios Profesionales         NaN  9.526230e+03   \n",
      "32                       Agua potable         NaN  5.548000e+03   \n",
      "33                     Gas de Cocinar         NaN  4.280000e+03   \n",
      "34                Comida del Personal         NaN  2.034500e+04   \n",
      "35                    Gestiones admon         NaN  7.300390e+03   \n",
      "36                           Internet         NaN  2.921538e+03   \n",
      "37                              Cable         NaN  3.367500e+03   \n",
      "38                            Spotify         NaN  2.173915e+02   \n",
      "39                           Telefono         NaN  5.276780e+03   \n",
      "40                            Seguros         NaN  2.277740e+03   \n",
      "41                         Transporte         NaN  1.042200e+04   \n",
      "42                        Combustible         NaN  3.000000e+03   \n",
      "43      Compra de bienes y servicios          NaN  0.000000e+00   \n",
      "44               Gastos de Publicidad         NaN  9.987668e+03   \n",
      "45                           Facebook         NaN  9.987668e+03   \n",
      "46            Propaganda y Publicidad         NaN  0.000000e+00   \n",
      "47                 Gastos Financieros         NaN  4.129798e+04   \n",
      "48                  Comisiones Banpro         NaN  2.551756e+04   \n",
      "49                     Comisiones BAC         NaN  3.216987e+03   \n",
      "50                          Alcaldia          NaN  1.256343e+04   \n",
      "51                              Intur         NaN           NaN   \n",
      "52                                NaN         NaN           NaN   \n",
      "53             Total Gastos Operación         NaN  4.953009e+05   \n",
      "54                                NaN         NaN           NaN   \n",
      "55             Utilidad del Ejercicio         NaN  4.514874e+05   \n",
      "\n",
      "          Febrero                                         Marzo         Abril  \n",
      "0   366758.174200                   C$               476 665,57  6.109685e+05  \n",
      "1   220054.904500                                  C$274 925,77  3.665811e+05  \n",
      "2   146703.269700                                  C$201 739,80  2.443874e+05  \n",
      "3   598394.920000                   C$               767 031,24  6.134173e+05  \n",
      "4   598394.920000                                  C$767 031,24  6.134173e+05  \n",
      "5   965153.094200                     C$           1 243 696,81  1.224386e+06  \n",
      "6             NaN                                           NaN           NaN  \n",
      "7             NaN                                           NaN           NaN  \n",
      "8    46291.776484                 C$                  81 584,52  8.160232e+04  \n",
      "9    42942.430000                 C$                  38 015,00  6.501148e+04  \n",
      "10   58899.850000                 C$                  60 635,78  1.161603e+05  \n",
      "11   60886.140000                 C$                  68 476,36  7.377462e+04  \n",
      "12  209020.196484                   C$               248 711,66  3.365487e+05  \n",
      "13  756132.897716                   C$               994 985,15  8.878371e+05  \n",
      "14            NaN                                           NaN           NaN  \n",
      "15  204772.279500                   C$               261 645,09  2.405080e+05  \n",
      "16  144650.949500                   C$               152 850,12  1.703189e+05  \n",
      "17   30034.950000                 C$                  30 406,00  3.203994e+04  \n",
      "18   28663.570000                 C$                  36 418,59  3.641859e+04  \n",
      "19    1422.810000               C$                     3 288,38  1.730560e+03  \n",
      "20       0.000000               C$                     1 617,00  0.000000e+00  \n",
      "21       0.000000                 C$                  37 065,00  0.000000e+00  \n",
      "22       0.000000   C$                                      -    0.000000e+00  \n",
      "23  184788.539198                   C$               222 396,34  2.033946e+05  \n",
      "24   32122.222842                 C$                  33 368,22  3.025475e+04  \n",
      "25    2052.085650               C$                     2 053,82  2.055498e+03  \n",
      "26    2888.900754               C$                     5 471,16  3.274245e+03  \n",
      "27    4646.430393               C$                     4 650,36  4.654157e+03  \n",
      "28   31633.580000                 C$                  50 431,05  5.107608e+04  \n",
      "29    1288.000000               C$                     1 088,00  6.880000e+02  \n",
      "30   28956.250000                 C$                  26 853,45  3.128978e+04  \n",
      "31    9532.450000               C$                     9 564,97  9.428330e+03  \n",
      "32    5548.000000               C$                     4 638,00  4.196000e+03  \n",
      "33    3280.000000               C$                     4 625,00  4.606000e+03  \n",
      "34   18545.000000                 C$                  17 960,00  1.752000e+04  \n",
      "35   11711.000000                 C$                  25 666,79  7.578000e+03  \n",
      "36    2923.768050               C$                     3 344,27  3.347006e+03  \n",
      "37    6761.130000               C$                     3 378,63  4.511720e+03  \n",
      "38     217.557399             C$                         217,74  2.179192e+02  \n",
      "39    6231.790000               C$                     6 235,42  6.239440e+03  \n",
      "40    8030.374110               C$                     7 640,47  7.646719e+03  \n",
      "41    6570.000000                 C$                  11 453,00  1.165100e+04  \n",
      "42    1850.000000               C$                     3 756,00  3.160000e+03  \n",
      "43       0.000000   C$                                      -    0.000000e+00  \n",
      "44   21330.721207               C$                     6 836,49  1.221803e+04  \n",
      "45    6830.721207               C$                     6 836,49  1.221803e+04  \n",
      "46   14500.000000   C$                                      -    0.000000e+00  \n",
      "47   37721.058669                 C$                  42 100,59  4.350756e+04  \n",
      "48   22677.000402                 C$                  23 758,97  2.708833e+04  \n",
      "49    5392.528267               C$                     5 904,66  4.175372e+03  \n",
      "50    9651.530000                 C$                  12 436,96  1.224385e+04  \n",
      "51       0.000000   C$                                      -    0.000000e+00  \n",
      "52            NaN                                           NaN           NaN  \n",
      "53  448612.598574                   C$               532 978,52  4.996282e+05  \n",
      "54            NaN                                           NaN           NaN  \n",
      "55  307520.299142                   C$               462 006,63  3.882089e+05  \n"
     ]
    }
   ],
   "source": [
    "print(df)"
   ]
  },
  {
   "cell_type": "code",
   "execution_count": 14,
   "id": "b6e67e96",
   "metadata": {},
   "outputs": [
    {
     "ename": "AttributeError",
     "evalue": "'DataFrame' object has no attribute 'enero'",
     "output_type": "error",
     "traceback": [
      "\u001b[0;31m---------------------------------------------------------------------------\u001b[0m",
      "\u001b[0;31mAttributeError\u001b[0m                            Traceback (most recent call last)",
      "Cell \u001b[0;32mIn[14], line 1\u001b[0m\n\u001b[0;32m----> 1\u001b[0m \u001b[38;5;28mprint\u001b[39m(\u001b[43mdf\u001b[49m\u001b[38;5;241;43m.\u001b[39;49m\u001b[43menero\u001b[49m)\n",
      "File \u001b[0;32m/workspace/.pyenv_mirror/user/current/lib/python3.11/site-packages/pandas/core/generic.py:5989\u001b[0m, in \u001b[0;36mNDFrame.__getattr__\u001b[0;34m(self, name)\u001b[0m\n\u001b[1;32m   5982\u001b[0m \u001b[38;5;28;01mif\u001b[39;00m (\n\u001b[1;32m   5983\u001b[0m     name \u001b[38;5;129;01mnot\u001b[39;00m \u001b[38;5;129;01min\u001b[39;00m \u001b[38;5;28mself\u001b[39m\u001b[38;5;241m.\u001b[39m_internal_names_set\n\u001b[1;32m   5984\u001b[0m     \u001b[38;5;129;01mand\u001b[39;00m name \u001b[38;5;129;01mnot\u001b[39;00m \u001b[38;5;129;01min\u001b[39;00m \u001b[38;5;28mself\u001b[39m\u001b[38;5;241m.\u001b[39m_metadata\n\u001b[1;32m   5985\u001b[0m     \u001b[38;5;129;01mand\u001b[39;00m name \u001b[38;5;129;01mnot\u001b[39;00m \u001b[38;5;129;01min\u001b[39;00m \u001b[38;5;28mself\u001b[39m\u001b[38;5;241m.\u001b[39m_accessors\n\u001b[1;32m   5986\u001b[0m     \u001b[38;5;129;01mand\u001b[39;00m \u001b[38;5;28mself\u001b[39m\u001b[38;5;241m.\u001b[39m_info_axis\u001b[38;5;241m.\u001b[39m_can_hold_identifiers_and_holds_name(name)\n\u001b[1;32m   5987\u001b[0m ):\n\u001b[1;32m   5988\u001b[0m     \u001b[38;5;28;01mreturn\u001b[39;00m \u001b[38;5;28mself\u001b[39m[name]\n\u001b[0;32m-> 5989\u001b[0m \u001b[38;5;28;01mreturn\u001b[39;00m \u001b[38;5;28;43mobject\u001b[39;49m\u001b[38;5;241;43m.\u001b[39;49m\u001b[38;5;21;43m__getattribute__\u001b[39;49m\u001b[43m(\u001b[49m\u001b[38;5;28;43mself\u001b[39;49m\u001b[43m,\u001b[49m\u001b[43m \u001b[49m\u001b[43mname\u001b[49m\u001b[43m)\u001b[49m\n",
      "\u001b[0;31mAttributeError\u001b[0m: 'DataFrame' object has no attribute 'enero'"
     ]
    }
   ],
   "source": [
    "print(df.enero)"
   ]
  },
  {
   "cell_type": "code",
   "execution_count": 15,
   "id": "5b89ed72",
   "metadata": {},
   "outputs": [
    {
     "ename": "SyntaxError",
     "evalue": "invalid syntax. Perhaps you forgot a comma? (2768294011.py, line 1)",
     "output_type": "error",
     "traceback": [
      "\u001b[0;36m  Cell \u001b[0;32mIn[15], line 1\u001b[0;36m\u001b[0m\n\u001b[0;31m    print(df.1)\u001b[0m\n\u001b[0m          ^\u001b[0m\n\u001b[0;31mSyntaxError\u001b[0m\u001b[0;31m:\u001b[0m invalid syntax. Perhaps you forgot a comma?\n"
     ]
    }
   ],
   "source": [
    "print(df.1)"
   ]
  },
  {
   "cell_type": "code",
   "execution_count": null,
   "id": "4b9f43e7",
   "metadata": {},
   "outputs": [],
   "source": []
  },
  {
   "cell_type": "code",
   "execution_count": 1,
   "id": "49c0b1e8",
   "metadata": {},
   "outputs": [
    {
     "ename": "NameError",
     "evalue": "name 'df' is not defined",
     "output_type": "error",
     "traceback": [
      "\u001b[0;31m---------------------------------------------------------------------------\u001b[0m",
      "\u001b[0;31mNameError\u001b[0m                                 Traceback (most recent call last)",
      "Cell \u001b[0;32mIn[1], line 1\u001b[0m\n\u001b[0;32m----> 1\u001b[0m \u001b[43mdf\u001b[49m\u001b[38;5;241m.\u001b[39misnull()\u001b[38;5;241m.\u001b[39msum()\n",
      "\u001b[0;31mNameError\u001b[0m: name 'df' is not defined"
     ]
    }
   ],
   "source": [
    "df.isnull().sum()"
   ]
  },
  {
   "cell_type": "code",
   "execution_count": null,
   "id": "c0eca9a8",
   "metadata": {},
   "outputs": [],
   "source": []
  }
 ],
 "metadata": {
  "kernelspec": {
   "display_name": "Python 3 (ipykernel)",
   "language": "python",
   "name": "python3"
  },
  "language_info": {
   "codemirror_mode": {
    "name": "ipython",
    "version": 3
   },
   "file_extension": ".py",
   "mimetype": "text/x-python",
   "name": "python",
   "nbconvert_exporter": "python",
   "pygments_lexer": "ipython3",
   "version": "3.11.1"
  }
 },
 "nbformat": 4,
 "nbformat_minor": 5
}
