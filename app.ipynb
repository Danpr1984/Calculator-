import streamlit as st

def welcome_page():
    st.title("Welcome to the Calculator App")
    st.write("This is a simple calculator application built with Streamlit.")
    
    # Button to navigate to the calculator
    if st.button("Go to Calculator"):
        st.session_state['page'] = 'calculator'
    
    # Button to navigate to the map page
    if st.button("Go to Map"):
        st.session_state['page'] = 'map'


def calculator():
    st.title("Simple Calculator")
    
    # Input fields for numbers
    number1 = st.number_input("Enter the first number", step=0.1)
    number2 = st.number_input("Enter the second number", step=0.1)
    
    # Operation selection
    operation = st.selectbox("Select an operation", ["Addition", "Subtraction", "Multiplication", "Division"])
    
    # Calculate result based on operation
    if operation == "Addition":
        result = number1 + number2
    elif operation == "Subtraction":
        result = number1 - number2
    elif operation == "Multiplication":
        result = number1 * number2
    elif operation == "Division":
        result = number1 / number2 if number2 != 0 else "Error: Division by zero"
    
    # Display the result
    st.write("Result:", result)


def map_page():
    st.title("Google Maps Page")
    
    # Google Maps embedded using iframe
    map_url = "https://www.google.com/maps/embed?pb=!1m18!1m12!1m3!1d3222.447730344462!2d-122.08385538473842!3d37.386051779844695!2m3!1f0!2f0!3f0!3m2!1i1024!2i768!4f13.1!3m3!1m2!1s0x808f7e8b0cd083f5%3A0x4a6e17bc8f0b95a2!2sGolden%20Gate%20Bridge!5e0!3m2!1sen!2sus!4v1569251142624!5m2!1sen!2sus"
    st.write(f'<iframe src="{map_url}" width="800" height="600" frameborder="0" style="border:0" allowfullscreen></iframe>', unsafe_allow_html=True)
    

if __name__ == "__main__":
    if 'page' not in st.session_state:
        st.session_state['page'] = 'welcome'
    
    if st.session_state['page'] == 'welcome':
        welcome_page()
    elif st.session_state['page'] == 'calculator':
        calculator()
    elif st.session_state['page'] == 'map':
        map_page()